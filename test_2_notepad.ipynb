{
 "cells": [
  {
   "cell_type": "code",
   "execution_count": 40,
   "id": "163b28e6",
   "metadata": {},
   "outputs": [],
   "source": [
    "import numpy as np\n",
    "import pandas as pd\n",
    "import matplotlib.pyplot as plt\n",
    "import seaborn as sns\n",
    "import os"
   ]
  },
  {
   "cell_type": "code",
   "execution_count": 60,
   "id": "715da92f",
   "metadata": {},
   "outputs": [
    {
     "data": {
      "text/html": [
       "<div>\n",
       "<style scoped>\n",
       "    .dataframe tbody tr th:only-of-type {\n",
       "        vertical-align: middle;\n",
       "    }\n",
       "\n",
       "    .dataframe tbody tr th {\n",
       "        vertical-align: top;\n",
       "    }\n",
       "\n",
       "    .dataframe thead th {\n",
       "        text-align: right;\n",
       "    }\n",
       "</style>\n",
       "<table border=\"1\" class=\"dataframe\">\n",
       "  <thead>\n",
       "    <tr style=\"text-align: right;\">\n",
       "      <th></th>\n",
       "      <th>variable_type</th>\n",
       "      <th>number_of_neurons</th>\n",
       "      <th>learning_rate</th>\n",
       "      <th>start_date_time</th>\n",
       "      <th>stop_date_time</th>\n",
       "      <th>start_time_in_seconds</th>\n",
       "      <th>stop_time_in_seconds</th>\n",
       "      <th>time_taken_in_seconds</th>\n",
       "      <th>ram_used_in_mb</th>\n",
       "    </tr>\n",
       "  </thead>\n",
       "  <tbody>\n",
       "    <tr>\n",
       "      <th>0</th>\n",
       "      <td>NEURONS</td>\n",
       "      <td>200</td>\n",
       "      <td>0.0001</td>\n",
       "      <td>2022-08-13 23:24:34.256035</td>\n",
       "      <td>2022-08-14 05:05:06.640370</td>\n",
       "      <td>1.660447e+09</td>\n",
       "      <td>1.660468e+09</td>\n",
       "      <td>20432.384335</td>\n",
       "      <td>1011.058594</td>\n",
       "    </tr>\n",
       "    <tr>\n",
       "      <th>1</th>\n",
       "      <td>NEURONS</td>\n",
       "      <td>400</td>\n",
       "      <td>0.0001</td>\n",
       "      <td>2022-08-14 05:05:06.647103</td>\n",
       "      <td>2022-08-14 11:15:20.377023</td>\n",
       "      <td>1.660468e+09</td>\n",
       "      <td>1.660490e+09</td>\n",
       "      <td>22213.729920</td>\n",
       "      <td>1088.777344</td>\n",
       "    </tr>\n",
       "    <tr>\n",
       "      <th>2</th>\n",
       "      <td>NEURONS</td>\n",
       "      <td>600</td>\n",
       "      <td>0.0001</td>\n",
       "      <td>2022-08-14 11:15:20.386317</td>\n",
       "      <td>2022-08-14 20:12:36.980730</td>\n",
       "      <td>1.660490e+09</td>\n",
       "      <td>1.660522e+09</td>\n",
       "      <td>32236.594413</td>\n",
       "      <td>1033.886719</td>\n",
       "    </tr>\n",
       "    <tr>\n",
       "      <th>3</th>\n",
       "      <td>NEURONS</td>\n",
       "      <td>800</td>\n",
       "      <td>0.0001</td>\n",
       "      <td>2022-08-14 22:07:19.473308</td>\n",
       "      <td>2022-08-15 09:29:43.740786</td>\n",
       "      <td>1.660529e+09</td>\n",
       "      <td>1.660570e+09</td>\n",
       "      <td>40944.267478</td>\n",
       "      <td>1031.285156</td>\n",
       "    </tr>\n",
       "    <tr>\n",
       "      <th>4</th>\n",
       "      <td>NEURONS</td>\n",
       "      <td>1000</td>\n",
       "      <td>0.0001</td>\n",
       "      <td>2022-08-15 09:29:43.756641</td>\n",
       "      <td>2022-08-16 00:50:18.995787</td>\n",
       "      <td>1.660570e+09</td>\n",
       "      <td>1.660625e+09</td>\n",
       "      <td>55235.239146</td>\n",
       "      <td>942.761719</td>\n",
       "    </tr>\n",
       "  </tbody>\n",
       "</table>\n",
       "</div>"
      ],
      "text/plain": [
       "  variable_type number_of_neurons learning_rate             start_date_time  \\\n",
       "0       NEURONS               200        0.0001  2022-08-13 23:24:34.256035   \n",
       "1       NEURONS               400        0.0001  2022-08-14 05:05:06.647103   \n",
       "2       NEURONS               600        0.0001  2022-08-14 11:15:20.386317   \n",
       "3       NEURONS               800        0.0001  2022-08-14 22:07:19.473308   \n",
       "4       NEURONS              1000        0.0001  2022-08-15 09:29:43.756641   \n",
       "\n",
       "               stop_date_time  start_time_in_seconds  stop_time_in_seconds  \\\n",
       "0  2022-08-14 05:05:06.640370           1.660447e+09          1.660468e+09   \n",
       "1  2022-08-14 11:15:20.377023           1.660468e+09          1.660490e+09   \n",
       "2  2022-08-14 20:12:36.980730           1.660490e+09          1.660522e+09   \n",
       "3  2022-08-15 09:29:43.740786           1.660529e+09          1.660570e+09   \n",
       "4  2022-08-16 00:50:18.995787           1.660570e+09          1.660625e+09   \n",
       "\n",
       "   time_taken_in_seconds  ram_used_in_mb  \n",
       "0           20432.384335     1011.058594  \n",
       "1           22213.729920     1088.777344  \n",
       "2           32236.594413     1033.886719  \n",
       "3           40944.267478     1031.285156  \n",
       "4           55235.239146      942.761719  "
      ]
     },
     "execution_count": 60,
     "metadata": {},
     "output_type": "execute_result"
    }
   ],
   "source": [
    "df=pd.read_csv('collected_data/data.csv')\n",
    "df['learning_rate']=df['learning_rate'].apply(str)\n",
    "df['number_of_neurons']=df['number_of_neurons'].apply(str)\n",
    "df.head()"
   ]
  },
  {
   "cell_type": "code",
   "execution_count": 61,
   "id": "5dbd392f",
   "metadata": {},
   "outputs": [
    {
     "data": {
      "text/plain": [
       "Index(['variable_type', 'number_of_neurons', 'learning_rate',\n",
       "       'start_date_time', 'stop_date_time', 'start_time_in_seconds',\n",
       "       'stop_time_in_seconds', 'time_taken_in_seconds', 'ram_used_in_mb'],\n",
       "      dtype='object')"
      ]
     },
     "execution_count": 61,
     "metadata": {},
     "output_type": "execute_result"
    }
   ],
   "source": [
    "df.columns"
   ]
  },
  {
   "cell_type": "code",
   "execution_count": 62,
   "id": "fe5122b2",
   "metadata": {},
   "outputs": [
    {
     "data": {
      "text/html": [
       "<div>\n",
       "<style scoped>\n",
       "    .dataframe tbody tr th:only-of-type {\n",
       "        vertical-align: middle;\n",
       "    }\n",
       "\n",
       "    .dataframe tbody tr th {\n",
       "        vertical-align: top;\n",
       "    }\n",
       "\n",
       "    .dataframe thead th {\n",
       "        text-align: right;\n",
       "    }\n",
       "</style>\n",
       "<table border=\"1\" class=\"dataframe\">\n",
       "  <thead>\n",
       "    <tr style=\"text-align: right;\">\n",
       "      <th></th>\n",
       "      <th>variable_type</th>\n",
       "      <th>number_of_neurons</th>\n",
       "      <th>learning_rate</th>\n",
       "      <th>start_date_time</th>\n",
       "      <th>stop_date_time</th>\n",
       "      <th>start_time_in_seconds</th>\n",
       "      <th>stop_time_in_seconds</th>\n",
       "      <th>time_taken_in_seconds</th>\n",
       "      <th>ram_used_in_mb</th>\n",
       "    </tr>\n",
       "  </thead>\n",
       "  <tbody>\n",
       "    <tr>\n",
       "      <th>0</th>\n",
       "      <td>NEURONS</td>\n",
       "      <td>200</td>\n",
       "      <td>0.0001</td>\n",
       "      <td>2022-08-13 23:24:34.256035</td>\n",
       "      <td>2022-08-14 05:05:06.640370</td>\n",
       "      <td>1.660447e+09</td>\n",
       "      <td>1.660468e+09</td>\n",
       "      <td>20432.384335</td>\n",
       "      <td>1011.058594</td>\n",
       "    </tr>\n",
       "    <tr>\n",
       "      <th>1</th>\n",
       "      <td>NEURONS</td>\n",
       "      <td>400</td>\n",
       "      <td>0.0001</td>\n",
       "      <td>2022-08-14 05:05:06.647103</td>\n",
       "      <td>2022-08-14 11:15:20.377023</td>\n",
       "      <td>1.660468e+09</td>\n",
       "      <td>1.660490e+09</td>\n",
       "      <td>22213.729920</td>\n",
       "      <td>1088.777344</td>\n",
       "    </tr>\n",
       "    <tr>\n",
       "      <th>2</th>\n",
       "      <td>NEURONS</td>\n",
       "      <td>600</td>\n",
       "      <td>0.0001</td>\n",
       "      <td>2022-08-14 11:15:20.386317</td>\n",
       "      <td>2022-08-14 20:12:36.980730</td>\n",
       "      <td>1.660490e+09</td>\n",
       "      <td>1.660522e+09</td>\n",
       "      <td>32236.594413</td>\n",
       "      <td>1033.886719</td>\n",
       "    </tr>\n",
       "    <tr>\n",
       "      <th>3</th>\n",
       "      <td>NEURONS</td>\n",
       "      <td>800</td>\n",
       "      <td>0.0001</td>\n",
       "      <td>2022-08-14 22:07:19.473308</td>\n",
       "      <td>2022-08-15 09:29:43.740786</td>\n",
       "      <td>1.660529e+09</td>\n",
       "      <td>1.660570e+09</td>\n",
       "      <td>40944.267478</td>\n",
       "      <td>1031.285156</td>\n",
       "    </tr>\n",
       "    <tr>\n",
       "      <th>4</th>\n",
       "      <td>NEURONS</td>\n",
       "      <td>1000</td>\n",
       "      <td>0.0001</td>\n",
       "      <td>2022-08-15 09:29:43.756641</td>\n",
       "      <td>2022-08-16 00:50:18.995787</td>\n",
       "      <td>1.660570e+09</td>\n",
       "      <td>1.660625e+09</td>\n",
       "      <td>55235.239146</td>\n",
       "      <td>942.761719</td>\n",
       "    </tr>\n",
       "  </tbody>\n",
       "</table>\n",
       "</div>"
      ],
      "text/plain": [
       "  variable_type number_of_neurons learning_rate             start_date_time  \\\n",
       "0       NEURONS               200        0.0001  2022-08-13 23:24:34.256035   \n",
       "1       NEURONS               400        0.0001  2022-08-14 05:05:06.647103   \n",
       "2       NEURONS               600        0.0001  2022-08-14 11:15:20.386317   \n",
       "3       NEURONS               800        0.0001  2022-08-14 22:07:19.473308   \n",
       "4       NEURONS              1000        0.0001  2022-08-15 09:29:43.756641   \n",
       "\n",
       "               stop_date_time  start_time_in_seconds  stop_time_in_seconds  \\\n",
       "0  2022-08-14 05:05:06.640370           1.660447e+09          1.660468e+09   \n",
       "1  2022-08-14 11:15:20.377023           1.660468e+09          1.660490e+09   \n",
       "2  2022-08-14 20:12:36.980730           1.660490e+09          1.660522e+09   \n",
       "3  2022-08-15 09:29:43.740786           1.660529e+09          1.660570e+09   \n",
       "4  2022-08-16 00:50:18.995787           1.660570e+09          1.660625e+09   \n",
       "\n",
       "   time_taken_in_seconds  ram_used_in_mb  \n",
       "0           20432.384335     1011.058594  \n",
       "1           22213.729920     1088.777344  \n",
       "2           32236.594413     1033.886719  \n",
       "3           40944.267478     1031.285156  \n",
       "4           55235.239146      942.761719  "
      ]
     },
     "execution_count": 62,
     "metadata": {},
     "output_type": "execute_result"
    }
   ],
   "source": [
    "neuron_df = df.query('variable_type==\"NEURONS\"')\n",
    "neuron_df"
   ]
  },
  {
   "cell_type": "code",
   "execution_count": 63,
   "id": "df3fbdcb",
   "metadata": {},
   "outputs": [
    {
     "data": {
      "image/png": "[encoded data removed]",
      "text/plain": [
       "<Figure size 432x288 with 1 Axes>"
      ]
     },
     "metadata": {
      "needs_background": "light"
     },
     "output_type": "display_data"
    }
   ],
   "source": [
    "plt.plot(neuron_df['number_of_neurons'], neuron_df['time_taken_in_seconds'])\n",
    "plt.title('Number of neurons vs Time taken(in seconds)', fontsize=15)\n",
    "plt.xlabel('Number of neurons', fontsize=15)\n",
    "plt.ylabel('Time taken', fontsize=15, labelpad=0)\n",
    "plt.savefig('collected_data/Number_of_neurons_vs_time_taken.png', dpi =500)"
   ]
  },
  {
   "cell_type": "code",
   "execution_count": 64,
   "id": "f2ce67d1",
   "metadata": {},
   "outputs": [
    {
     "data": {
      "image/png": "[encoded data removed]",
      "text/plain": [
       "<Figure size 432x288 with 1 Axes>"
      ]
     },
     "metadata": {
      "needs_background": "light"
     },
     "output_type": "display_data"
    }
   ],
   "source": [
    "plt.plot(neuron_df['number_of_neurons'], neuron_df['ram_used_in_mb'])\n",
    "plt.title('Number of neurons vs Ram Used(in MB)', fontsize=15)\n",
    "plt.xlabel('Number of neurons', fontsize=15)\n",
    "plt.ylabel('RAM used', fontsize=15, labelpad=0)\n",
    "plt.savefig('collected_data/Number_of_neurons_vs_ram_used.png', dpi =500)"
   ]
  },
  {
   "cell_type": "code",
   "execution_count": 65,
   "id": "b55756de",
   "metadata": {
    "scrolled": true
   },
   "outputs": [
    {
     "data": {
      "text/html": [
       "<div>\n",
       "<style scoped>\n",
       "    .dataframe tbody tr th:only-of-type {\n",
       "        vertical-align: middle;\n",
       "    }\n",
       "\n",
       "    .dataframe tbody tr th {\n",
       "        vertical-align: top;\n",
       "    }\n",
       "\n",
       "    .dataframe thead th {\n",
       "        text-align: right;\n",
       "    }\n",
       "</style>\n",
       "<table border=\"1\" class=\"dataframe\">\n",
       "  <thead>\n",
       "    <tr style=\"text-align: right;\">\n",
       "      <th></th>\n",
       "      <th>variable_type</th>\n",
       "      <th>number_of_neurons</th>\n",
       "      <th>learning_rate</th>\n",
       "      <th>start_date_time</th>\n",
       "      <th>stop_date_time</th>\n",
       "      <th>start_time_in_seconds</th>\n",
       "      <th>stop_time_in_seconds</th>\n",
       "      <th>time_taken_in_seconds</th>\n",
       "      <th>ram_used_in_mb</th>\n",
       "    </tr>\n",
       "  </thead>\n",
       "  <tbody>\n",
       "    <tr>\n",
       "      <th>5</th>\n",
       "      <td>LEARNING</td>\n",
       "      <td>200</td>\n",
       "      <td>1e-05</td>\n",
       "      <td>2022-08-16 18:10:42.439261</td>\n",
       "      <td>2022-08-18 05:46:37.707080</td>\n",
       "      <td>1.660688e+09</td>\n",
       "      <td>1.660816e+09</td>\n",
       "      <td>128155.267819</td>\n",
       "      <td>770.226562</td>\n",
       "    </tr>\n",
       "    <tr>\n",
       "      <th>6</th>\n",
       "      <td>LEARNING</td>\n",
       "      <td>200</td>\n",
       "      <td>0.0001</td>\n",
       "      <td>2022-08-18 06:00:19.985883</td>\n",
       "      <td>2022-08-18 09:44:55.328261</td>\n",
       "      <td>1.660817e+09</td>\n",
       "      <td>1.660830e+09</td>\n",
       "      <td>13475.342378</td>\n",
       "      <td>881.054688</td>\n",
       "    </tr>\n",
       "    <tr>\n",
       "      <th>7</th>\n",
       "      <td>LEARNING</td>\n",
       "      <td>200</td>\n",
       "      <td>0.001</td>\n",
       "      <td>2022-08-19 13:27:49.760476</td>\n",
       "      <td>2022-08-19 13:47:53.796728</td>\n",
       "      <td>1.660930e+09</td>\n",
       "      <td>1.660931e+09</td>\n",
       "      <td>1204.036252</td>\n",
       "      <td>971.250000</td>\n",
       "    </tr>\n",
       "    <tr>\n",
       "      <th>8</th>\n",
       "      <td>LEARNING</td>\n",
       "      <td>200</td>\n",
       "      <td>0.01</td>\n",
       "      <td>2022-08-19 13:47:53.806104</td>\n",
       "      <td>2022-08-19 17:07:28.849852</td>\n",
       "      <td>1.660931e+09</td>\n",
       "      <td>1.660943e+09</td>\n",
       "      <td>11975.043748</td>\n",
       "      <td>891.878906</td>\n",
       "    </tr>\n",
       "  </tbody>\n",
       "</table>\n",
       "</div>"
      ],
      "text/plain": [
       "  variable_type number_of_neurons learning_rate             start_date_time  \\\n",
       "5      LEARNING               200         1e-05  2022-08-16 18:10:42.439261   \n",
       "6      LEARNING               200        0.0001  2022-08-18 06:00:19.985883   \n",
       "7      LEARNING               200         0.001  2022-08-19 13:27:49.760476   \n",
       "8      LEARNING               200          0.01  2022-08-19 13:47:53.806104   \n",
       "\n",
       "               stop_date_time  start_time_in_seconds  stop_time_in_seconds  \\\n",
       "5  2022-08-18 05:46:37.707080           1.660688e+09          1.660816e+09   \n",
       "6  2022-08-18 09:44:55.328261           1.660817e+09          1.660830e+09   \n",
       "7  2022-08-19 13:47:53.796728           1.660930e+09          1.660931e+09   \n",
       "8  2022-08-19 17:07:28.849852           1.660931e+09          1.660943e+09   \n",
       "\n",
       "   time_taken_in_seconds  ram_used_in_mb  \n",
       "5          128155.267819      770.226562  \n",
       "6           13475.342378      881.054688  \n",
       "7            1204.036252      971.250000  \n",
       "8           11975.043748      891.878906  "
      ]
     },
     "execution_count": 65,
     "metadata": {},
     "output_type": "execute_result"
    }
   ],
   "source": [
    "learning_df = df.query('variable_type==\"LEARNING\"')\n",
    "learning_df"
   ]
  },
  {
   "cell_type": "code",
   "execution_count": 66,
   "id": "7c366ae6",
   "metadata": {},
   "outputs": [
    {
     "data": {
      "image/png": "[encoded data removed]",
      "text/plain": [
       "<Figure size 432x288 with 1 Axes>"
      ]
     },
     "metadata": {
      "needs_background": "light"
     },
     "output_type": "display_data"
    }
   ],
   "source": [
    "plt.plot(learning_df['learning_rate'], learning_df['time_taken_in_seconds'])\n",
    "plt.title('Learning rate vs Time taken(in seconds)', fontsize=15)\n",
    "plt.xlabel('Learning rate', fontsize=15)\n",
    "plt.ylabel('Time taken', fontsize=15, labelpad=0)\n",
    "plt.savefig('collected_data/learning_rate_vs_time_taken.png', dpi =500)"
   ]
  },
  {
   "cell_type": "code",
   "execution_count": 67,
   "id": "97f2d7c3",
   "metadata": {},
   "outputs": [
    {
     "data": {
      "image/png": "[encoded data removed]",
      "text/plain": [
       "<Figure size 432x288 with 1 Axes>"
      ]
     },
     "metadata": {
      "needs_background": "light"
     },
     "output_type": "display_data"
    }
   ],
   "source": [
    "plt.plot(learning_df['learning_rate'], learning_df['ram_used_in_mb'])\n",
    "plt.title('Learning rate vs Ram Used(in MB)', fontsize=15)\n",
    "plt.xlabel('Number of neurons', fontsize=15)\n",
    "plt.ylabel('RAM used', fontsize=15, labelpad=0)\n",
    "plt.savefig('collected_data/learning_rate_vs_ram_used.png', dpi =500)"
   ]
  },
  {
   "cell_type": "code",
   "execution_count": null,
   "id": "381fdee7",
   "metadata": {},
   "outputs": [],
   "source": []
  }
 ],
 "metadata": {
  "kernelspec": {
   "display_name": "Python 3 (ipykernel)",
   "language": "python",
   "name": "python3"
  },
  "language_info": {
   "codemirror_mode": {
    "name": "ipython",
    "version": 3
   },
   "file_extension": ".py",
   "mimetype": "text/x-python",
   "name": "python",
   "nbconvert_exporter": "python",
   "pygments_lexer": "ipython3",
   "version": "3.9.12"
  }
 },
 "nbformat": 4,
 "nbformat_minor": 5
}
